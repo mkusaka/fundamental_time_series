{
 "cells": [
  {
   "cell_type": "code",
   "execution_count": 1,
   "metadata": {},
   "outputs": [],
   "source": [
    "load(\"../rdata/.RData\")"
   ]
  },
  {
   "cell_type": "code",
   "execution_count": 2,
   "metadata": {},
   "outputs": [
    {
     "data": {
      "text/html": [
       "<ol class=list-inline>\n",
       "\t<li>'data.cum.core30'</li>\n",
       "\t<li>'data.cum.core30.2'</li>\n",
       "\t<li>'data.cum.return'</li>\n",
       "\t<li>'data.cum.return2'</li>\n",
       "\t<li>'data.cum.train'</li>\n",
       "\t<li>'data.cum.train.2'</li>\n",
       "\t<li>'data.log.core30'</li>\n",
       "\t<li>'data.log.return'</li>\n",
       "\t<li>'data.log.return2'</li>\n",
       "\t<li>'data.price'</li>\n",
       "\t<li>'Date'</li>\n",
       "\t<li>'label'</li>\n",
       "\t<li>'price4'</li>\n",
       "\t<li>'return4'</li>\n",
       "\t<li>'sample1'</li>\n",
       "\t<li>'sample2'</li>\n",
       "\t<li>'X.price'</li>\n",
       "\t<li>'X.return'</li>\n",
       "\t<li>'Y.price'</li>\n",
       "\t<li>'Y.return'</li>\n",
       "\t<li>'yindex'</li>\n",
       "</ol>\n"
      ],
      "text/latex": [
       "\\begin{enumerate*}\n",
       "\\item 'data.cum.core30'\n",
       "\\item 'data.cum.core30.2'\n",
       "\\item 'data.cum.return'\n",
       "\\item 'data.cum.return2'\n",
       "\\item 'data.cum.train'\n",
       "\\item 'data.cum.train.2'\n",
       "\\item 'data.log.core30'\n",
       "\\item 'data.log.return'\n",
       "\\item 'data.log.return2'\n",
       "\\item 'data.price'\n",
       "\\item 'Date'\n",
       "\\item 'label'\n",
       "\\item 'price4'\n",
       "\\item 'return4'\n",
       "\\item 'sample1'\n",
       "\\item 'sample2'\n",
       "\\item 'X.price'\n",
       "\\item 'X.return'\n",
       "\\item 'Y.price'\n",
       "\\item 'Y.return'\n",
       "\\item 'yindex'\n",
       "\\end{enumerate*}\n"
      ],
      "text/markdown": [
       "1. 'data.cum.core30'\n",
       "2. 'data.cum.core30.2'\n",
       "3. 'data.cum.return'\n",
       "4. 'data.cum.return2'\n",
       "5. 'data.cum.train'\n",
       "6. 'data.cum.train.2'\n",
       "7. 'data.log.core30'\n",
       "8. 'data.log.return'\n",
       "9. 'data.log.return2'\n",
       "10. 'data.price'\n",
       "11. 'Date'\n",
       "12. 'label'\n",
       "13. 'price4'\n",
       "14. 'return4'\n",
       "15. 'sample1'\n",
       "16. 'sample2'\n",
       "17. 'X.price'\n",
       "18. 'X.return'\n",
       "19. 'Y.price'\n",
       "20. 'Y.return'\n",
       "21. 'yindex'\n",
       "\n",
       "\n"
      ],
      "text/plain": [
       " [1] \"data.cum.core30\"   \"data.cum.core30.2\" \"data.cum.return\"  \n",
       " [4] \"data.cum.return2\"  \"data.cum.train\"    \"data.cum.train.2\" \n",
       " [7] \"data.log.core30\"   \"data.log.return\"   \"data.log.return2\" \n",
       "[10] \"data.price\"        \"Date\"              \"label\"            \n",
       "[13] \"price4\"            \"return4\"           \"sample1\"          \n",
       "[16] \"sample2\"           \"X.price\"           \"X.return\"         \n",
       "[19] \"Y.price\"           \"Y.return\"          \"yindex\"           "
      ]
     },
     "metadata": {},
     "output_type": "display_data"
    }
   ],
   "source": [
    "ls()"
   ]
  },
  {
   "cell_type": "code",
   "execution_count": null,
   "metadata": {},
   "outputs": [],
   "source": []
  }
 ],
 "metadata": {
  "kernelspec": {
   "display_name": "R",
   "language": "R",
   "name": "ir"
  },
  "language_info": {
   "codemirror_mode": "r",
   "file_extension": ".r",
   "mimetype": "text/x-r-source",
   "name": "R",
   "pygments_lexer": "r",
   "version": "3.5.1"
  }
 },
 "nbformat": 4,
 "nbformat_minor": 2
}
